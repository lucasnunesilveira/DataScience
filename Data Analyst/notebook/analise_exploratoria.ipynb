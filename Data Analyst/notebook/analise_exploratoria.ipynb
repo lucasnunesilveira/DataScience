{
 "cells": [
  {
   "cell_type": "markdown",
   "metadata": {},
   "source": [
    "# Analise exploratoria dos dados"
   ]
  },
  {
   "cell_type": "markdown",
   "metadata": {},
   "source": [
    "## Importação das blibiotecas"
   ]
  },
  {
   "cell_type": "code",
   "execution_count": 27,
   "metadata": {},
   "outputs": [],
   "source": [
    "import pandas as pd \n",
    "import seaborn as sns \n",
    "import matplotlib_inline as plt \n",
    "import numpy as np \n",
    "import missingno as msno "
   ]
  },
  {
   "cell_type": "code",
   "execution_count": 28,
   "metadata": {},
   "outputs": [],
   "source": [
    "dt_agencia = pd.read_csv(\"../dados/indicium/agencias.csv\")\n",
    "df_transacoes = pd.read_csv(\"../dados/indicium/transacoes.csv\")\n",
    "df_clientes = pd.read_csv(\"../dados/indicium/clientes.csv\")\n",
    "df_colaboradores_agencia = pd.read_csv(\"../dados/indicium/colaborador_agencia.csv\")\n",
    "df_colaboradores = pd.read_csv(\"../dados/indicium/colaboradores.csv\")\n",
    "df_contas = pd.read_csv(\"../dados/indicium/contas.csv\")\n",
    "df_propostas = pd.read_csv(\"../dados/indicium/propostas_credito.csv\")"
   ]
  },
  {
   "cell_type": "code",
   "execution_count": 29,
   "metadata": {},
   "outputs": [
    {
     "name": "stdout",
     "output_type": "stream",
     "text": [
      "<class 'pandas.core.frame.DataFrame'>\n",
      "RangeIndex: 10 entries, 0 to 9\n",
      "Data columns (total 7 columns):\n",
      " #   Column         Non-Null Count  Dtype \n",
      "---  ------         --------------  ----- \n",
      " 0   cod_agencia    10 non-null     int64 \n",
      " 1   nome           10 non-null     object\n",
      " 2   endereco       10 non-null     object\n",
      " 3   cidade         10 non-null     object\n",
      " 4   uf             10 non-null     object\n",
      " 5   data_abertura  10 non-null     object\n",
      " 6   tipo_agencia   10 non-null     object\n",
      "dtypes: int64(1), object(6)\n",
      "memory usage: 692.0+ bytes\n"
     ]
    }
   ],
   "source": [
    "dt_agencia.info()"
   ]
  },
  {
   "cell_type": "code",
   "execution_count": 45,
   "metadata": {},
   "outputs": [],
   "source": [
    "#df_propostas.columns.values\n"
   ]
  },
  {
   "cell_type": "code",
   "execution_count": 31,
   "metadata": {},
   "outputs": [
    {
     "data": {
      "text/html": [
       "<div>\n",
       "<style scoped>\n",
       "    .dataframe tbody tr th:only-of-type {\n",
       "        vertical-align: middle;\n",
       "    }\n",
       "\n",
       "    .dataframe tbody tr th {\n",
       "        vertical-align: top;\n",
       "    }\n",
       "\n",
       "    .dataframe thead th {\n",
       "        text-align: right;\n",
       "    }\n",
       "</style>\n",
       "<table border=\"1\" class=\"dataframe\">\n",
       "  <thead>\n",
       "    <tr style=\"text-align: right;\">\n",
       "      <th></th>\n",
       "      <th>cod_cliente</th>\n",
       "      <th>primeiro_nome</th>\n",
       "      <th>ultimo_nome</th>\n",
       "      <th>email</th>\n",
       "      <th>tipo_cliente</th>\n",
       "      <th>data_inclusao</th>\n",
       "      <th>cpfcnpj</th>\n",
       "      <th>data_nascimento</th>\n",
       "      <th>endereco</th>\n",
       "      <th>cep</th>\n",
       "    </tr>\n",
       "  </thead>\n",
       "  <tbody>\n",
       "    <tr>\n",
       "      <th>0</th>\n",
       "      <td>28</td>\n",
       "      <td>Sabrina</td>\n",
       "      <td>Dias</td>\n",
       "      <td>moreiraemanuelly@example.org</td>\n",
       "      <td>PF</td>\n",
       "      <td>2017-04-03 16:11:00 UTC</td>\n",
       "      <td>357.081.496-39</td>\n",
       "      <td>2006-08-11</td>\n",
       "      <td>Praia de Duarte Vila Piratininga 81327-166 Fer...</td>\n",
       "      <td>95140-704</td>\n",
       "    </tr>\n",
       "    <tr>\n",
       "      <th>1</th>\n",
       "      <td>674</td>\n",
       "      <td>Luiz Felipe</td>\n",
       "      <td>Dias</td>\n",
       "      <td>pedroferreira@example.org</td>\n",
       "      <td>PF</td>\n",
       "      <td>2021-02-10 13:27:00 UTC</td>\n",
       "      <td>085.196.374-93</td>\n",
       "      <td>1995-10-11</td>\n",
       "      <td>Avenida da Rosa, 654 João Paulo Ii 20295449 Nu...</td>\n",
       "      <td>76516-765</td>\n",
       "    </tr>\n",
       "    <tr>\n",
       "      <th>2</th>\n",
       "      <td>693</td>\n",
       "      <td>Renan</td>\n",
       "      <td>Dias</td>\n",
       "      <td>ogomes@example.net</td>\n",
       "      <td>PF</td>\n",
       "      <td>2020-01-21 13:12:00 UTC</td>\n",
       "      <td>783.416.059-10</td>\n",
       "      <td>1948-11-19</td>\n",
       "      <td>Jardim de Rodrigues Ipiranga 14161-477 Duarte ...</td>\n",
       "      <td>51779625</td>\n",
       "    </tr>\n",
       "    <tr>\n",
       "      <th>3</th>\n",
       "      <td>743</td>\n",
       "      <td>Clara</td>\n",
       "      <td>Dias</td>\n",
       "      <td>rafaelcorreia@example.org</td>\n",
       "      <td>PF</td>\n",
       "      <td>2019-05-06 11:39:00 UTC</td>\n",
       "      <td>589.237.610-95</td>\n",
       "      <td>1978-01-27</td>\n",
       "      <td>Colônia Thomas Silva, 9 Tupi B 15771-946 Ferna...</td>\n",
       "      <td>19615792</td>\n",
       "    </tr>\n",
       "    <tr>\n",
       "      <th>4</th>\n",
       "      <td>769</td>\n",
       "      <td>André</td>\n",
       "      <td>Dias</td>\n",
       "      <td>danilo33@example.org</td>\n",
       "      <td>PF</td>\n",
       "      <td>2017-01-07 14:53:00 UTC</td>\n",
       "      <td>459.608.721-02</td>\n",
       "      <td>1990-08-25</td>\n",
       "      <td>Rua Correia, 889 Diamante 59123250 Aragão / RS</td>\n",
       "      <td>01672838</td>\n",
       "    </tr>\n",
       "  </tbody>\n",
       "</table>\n",
       "</div>"
      ],
      "text/plain": [
       "   cod_cliente primeiro_nome ultimo_nome                         email  \\\n",
       "0           28       Sabrina        Dias  moreiraemanuelly@example.org   \n",
       "1          674   Luiz Felipe        Dias     pedroferreira@example.org   \n",
       "2          693         Renan        Dias            ogomes@example.net   \n",
       "3          743         Clara        Dias     rafaelcorreia@example.org   \n",
       "4          769         André        Dias          danilo33@example.org   \n",
       "\n",
       "  tipo_cliente            data_inclusao         cpfcnpj data_nascimento  \\\n",
       "0           PF  2017-04-03 16:11:00 UTC  357.081.496-39      2006-08-11   \n",
       "1           PF  2021-02-10 13:27:00 UTC  085.196.374-93      1995-10-11   \n",
       "2           PF  2020-01-21 13:12:00 UTC  783.416.059-10      1948-11-19   \n",
       "3           PF  2019-05-06 11:39:00 UTC  589.237.610-95      1978-01-27   \n",
       "4           PF  2017-01-07 14:53:00 UTC  459.608.721-02      1990-08-25   \n",
       "\n",
       "                                            endereco        cep  \n",
       "0  Praia de Duarte Vila Piratininga 81327-166 Fer...  95140-704  \n",
       "1  Avenida da Rosa, 654 João Paulo Ii 20295449 Nu...  76516-765  \n",
       "2  Jardim de Rodrigues Ipiranga 14161-477 Duarte ...   51779625  \n",
       "3  Colônia Thomas Silva, 9 Tupi B 15771-946 Ferna...   19615792  \n",
       "4     Rua Correia, 889 Diamante 59123250 Aragão / RS   01672838  "
      ]
     },
     "execution_count": 31,
     "metadata": {},
     "output_type": "execute_result"
    }
   ],
   "source": [
    "df_clientes.head()"
   ]
  },
  {
   "cell_type": "code",
   "execution_count": 32,
   "metadata": {},
   "outputs": [
    {
     "name": "stdout",
     "output_type": "stream",
     "text": [
      "<class 'pandas.core.frame.DataFrame'>\n",
      "RangeIndex: 998 entries, 0 to 997\n",
      "Data columns (total 10 columns):\n",
      " #   Column           Non-Null Count  Dtype \n",
      "---  ------           --------------  ----- \n",
      " 0   cod_cliente      998 non-null    int64 \n",
      " 1   primeiro_nome    998 non-null    object\n",
      " 2   ultimo_nome      998 non-null    object\n",
      " 3   email            998 non-null    object\n",
      " 4   tipo_cliente     998 non-null    object\n",
      " 5   data_inclusao    998 non-null    object\n",
      " 6   cpfcnpj          998 non-null    object\n",
      " 7   data_nascimento  998 non-null    object\n",
      " 8   endereco         998 non-null    object\n",
      " 9   cep              998 non-null    object\n",
      "dtypes: int64(1), object(9)\n",
      "memory usage: 78.1+ KB\n"
     ]
    }
   ],
   "source": [
    "df_clientes.info()"
   ]
  },
  {
   "cell_type": "code",
   "execution_count": 33,
   "metadata": {},
   "outputs": [
    {
     "data": {
      "text/html": [
       "<div>\n",
       "<style scoped>\n",
       "    .dataframe tbody tr th:only-of-type {\n",
       "        vertical-align: middle;\n",
       "    }\n",
       "\n",
       "    .dataframe tbody tr th {\n",
       "        vertical-align: top;\n",
       "    }\n",
       "\n",
       "    .dataframe thead th {\n",
       "        text-align: right;\n",
       "    }\n",
       "</style>\n",
       "<table border=\"1\" class=\"dataframe\">\n",
       "  <thead>\n",
       "    <tr style=\"text-align: right;\">\n",
       "      <th></th>\n",
       "      <th>cod_colaborador</th>\n",
       "      <th>cod_agencia</th>\n",
       "    </tr>\n",
       "  </thead>\n",
       "  <tbody>\n",
       "    <tr>\n",
       "      <th>0</th>\n",
       "      <td>7</td>\n",
       "      <td>1</td>\n",
       "    </tr>\n",
       "    <tr>\n",
       "      <th>1</th>\n",
       "      <td>13</td>\n",
       "      <td>1</td>\n",
       "    </tr>\n",
       "    <tr>\n",
       "      <th>2</th>\n",
       "      <td>14</td>\n",
       "      <td>1</td>\n",
       "    </tr>\n",
       "    <tr>\n",
       "      <th>3</th>\n",
       "      <td>23</td>\n",
       "      <td>1</td>\n",
       "    </tr>\n",
       "    <tr>\n",
       "      <th>4</th>\n",
       "      <td>24</td>\n",
       "      <td>1</td>\n",
       "    </tr>\n",
       "  </tbody>\n",
       "</table>\n",
       "</div>"
      ],
      "text/plain": [
       "   cod_colaborador  cod_agencia\n",
       "0                7            1\n",
       "1               13            1\n",
       "2               14            1\n",
       "3               23            1\n",
       "4               24            1"
      ]
     },
     "execution_count": 33,
     "metadata": {},
     "output_type": "execute_result"
    }
   ],
   "source": [
    "df_colaboradores_agencia.head()"
   ]
  },
  {
   "cell_type": "code",
   "execution_count": 34,
   "metadata": {},
   "outputs": [
    {
     "name": "stdout",
     "output_type": "stream",
     "text": [
      "<class 'pandas.core.frame.DataFrame'>\n",
      "RangeIndex: 100 entries, 0 to 99\n",
      "Data columns (total 2 columns):\n",
      " #   Column           Non-Null Count  Dtype\n",
      "---  ------           --------------  -----\n",
      " 0   cod_colaborador  100 non-null    int64\n",
      " 1   cod_agencia      100 non-null    int64\n",
      "dtypes: int64(2)\n",
      "memory usage: 1.7 KB\n"
     ]
    }
   ],
   "source": [
    "df_colaboradores_agencia.info()"
   ]
  },
  {
   "cell_type": "code",
   "execution_count": 35,
   "metadata": {},
   "outputs": [
    {
     "data": {
      "text/html": [
       "<div>\n",
       "<style scoped>\n",
       "    .dataframe tbody tr th:only-of-type {\n",
       "        vertical-align: middle;\n",
       "    }\n",
       "\n",
       "    .dataframe tbody tr th {\n",
       "        vertical-align: top;\n",
       "    }\n",
       "\n",
       "    .dataframe thead th {\n",
       "        text-align: right;\n",
       "    }\n",
       "</style>\n",
       "<table border=\"1\" class=\"dataframe\">\n",
       "  <thead>\n",
       "    <tr style=\"text-align: right;\">\n",
       "      <th></th>\n",
       "      <th>cod_colaborador</th>\n",
       "      <th>primeiro_nome</th>\n",
       "      <th>ultimo_nome</th>\n",
       "      <th>email</th>\n",
       "      <th>cpf</th>\n",
       "      <th>data_nascimento</th>\n",
       "      <th>endereco</th>\n",
       "      <th>cep</th>\n",
       "    </tr>\n",
       "  </thead>\n",
       "  <tbody>\n",
       "    <tr>\n",
       "      <th>0</th>\n",
       "      <td>14</td>\n",
       "      <td>Paulo</td>\n",
       "      <td>Dias</td>\n",
       "      <td>melissalopes@example.net</td>\n",
       "      <td>847.210.695-02</td>\n",
       "      <td>1974-04-24</td>\n",
       "      <td>Lagoa de Rodrigues, 62 Zilah Sposito 37328-273...</td>\n",
       "      <td>27275674</td>\n",
       "    </tr>\n",
       "    <tr>\n",
       "      <th>1</th>\n",
       "      <td>19</td>\n",
       "      <td>Luiz Fernando</td>\n",
       "      <td>Dias</td>\n",
       "      <td>pcunha@example.net</td>\n",
       "      <td>820.415.963-33</td>\n",
       "      <td>1994-07-10</td>\n",
       "      <td>Ladeira de Moreira, 82 Jardim Atlântico 27617-...</td>\n",
       "      <td>50013962</td>\n",
       "    </tr>\n",
       "    <tr>\n",
       "      <th>2</th>\n",
       "      <td>32</td>\n",
       "      <td>Vitor Hugo</td>\n",
       "      <td>Dias</td>\n",
       "      <td>aragaonicolas@example.net</td>\n",
       "      <td>936.172.548-37</td>\n",
       "      <td>1986-12-18</td>\n",
       "      <td>Área Sophie Moreira Maria Virgínia 71941-111 S...</td>\n",
       "      <td>08955-215</td>\n",
       "    </tr>\n",
       "    <tr>\n",
       "      <th>3</th>\n",
       "      <td>88</td>\n",
       "      <td>João Gabriel</td>\n",
       "      <td>Lima</td>\n",
       "      <td>luiz-otaviorezende@example.org</td>\n",
       "      <td>967.082.451-67</td>\n",
       "      <td>1994-10-19</td>\n",
       "      <td>Trevo Murilo Ramos, 92 São Benedito 73615-597 ...</td>\n",
       "      <td>24224-305</td>\n",
       "    </tr>\n",
       "    <tr>\n",
       "      <th>4</th>\n",
       "      <td>39</td>\n",
       "      <td>Maria Eduarda</td>\n",
       "      <td>Melo</td>\n",
       "      <td>joao-pedro72@example.com</td>\n",
       "      <td>857.496.210-49</td>\n",
       "      <td>1996-03-01</td>\n",
       "      <td>Parque de Moura, 65 Granja Werneck 67769059 da...</td>\n",
       "      <td>96896390</td>\n",
       "    </tr>\n",
       "  </tbody>\n",
       "</table>\n",
       "</div>"
      ],
      "text/plain": [
       "   cod_colaborador  primeiro_nome ultimo_nome                           email  \\\n",
       "0               14          Paulo        Dias        melissalopes@example.net   \n",
       "1               19  Luiz Fernando        Dias              pcunha@example.net   \n",
       "2               32     Vitor Hugo        Dias       aragaonicolas@example.net   \n",
       "3               88   João Gabriel        Lima  luiz-otaviorezende@example.org   \n",
       "4               39  Maria Eduarda        Melo        joao-pedro72@example.com   \n",
       "\n",
       "              cpf data_nascimento  \\\n",
       "0  847.210.695-02      1974-04-24   \n",
       "1  820.415.963-33      1994-07-10   \n",
       "2  936.172.548-37      1986-12-18   \n",
       "3  967.082.451-67      1994-10-19   \n",
       "4  857.496.210-49      1996-03-01   \n",
       "\n",
       "                                            endereco        cep  \n",
       "0  Lagoa de Rodrigues, 62 Zilah Sposito 37328-273...   27275674  \n",
       "1  Ladeira de Moreira, 82 Jardim Atlântico 27617-...   50013962  \n",
       "2  Área Sophie Moreira Maria Virgínia 71941-111 S...  08955-215  \n",
       "3  Trevo Murilo Ramos, 92 São Benedito 73615-597 ...  24224-305  \n",
       "4  Parque de Moura, 65 Granja Werneck 67769059 da...   96896390  "
      ]
     },
     "execution_count": 35,
     "metadata": {},
     "output_type": "execute_result"
    }
   ],
   "source": [
    "df_colaboradores.head()"
   ]
  },
  {
   "cell_type": "code",
   "execution_count": 36,
   "metadata": {},
   "outputs": [
    {
     "name": "stdout",
     "output_type": "stream",
     "text": [
      "<class 'pandas.core.frame.DataFrame'>\n",
      "RangeIndex: 100 entries, 0 to 99\n",
      "Data columns (total 8 columns):\n",
      " #   Column           Non-Null Count  Dtype \n",
      "---  ------           --------------  ----- \n",
      " 0   cod_colaborador  100 non-null    int64 \n",
      " 1   primeiro_nome    100 non-null    object\n",
      " 2   ultimo_nome      100 non-null    object\n",
      " 3   email            100 non-null    object\n",
      " 4   cpf              100 non-null    object\n",
      " 5   data_nascimento  100 non-null    object\n",
      " 6   endereco         100 non-null    object\n",
      " 7   cep              100 non-null    object\n",
      "dtypes: int64(1), object(7)\n",
      "memory usage: 6.4+ KB\n"
     ]
    }
   ],
   "source": [
    "df_colaboradores.info()"
   ]
  },
  {
   "cell_type": "code",
   "execution_count": 37,
   "metadata": {},
   "outputs": [
    {
     "name": "stdout",
     "output_type": "stream",
     "text": [
      "<class 'pandas.core.frame.DataFrame'>\n",
      "RangeIndex: 999 entries, 0 to 998\n",
      "Data columns (total 9 columns):\n",
      " #   Column                  Non-Null Count  Dtype  \n",
      "---  ------                  --------------  -----  \n",
      " 0   num_conta               999 non-null    int64  \n",
      " 1   cod_cliente             999 non-null    int64  \n",
      " 2   cod_agencia             999 non-null    int64  \n",
      " 3   cod_colaborador         999 non-null    int64  \n",
      " 4   tipo_conta              999 non-null    object \n",
      " 5   data_abertura           999 non-null    object \n",
      " 6   saldo_total             999 non-null    float64\n",
      " 7   saldo_disponivel        999 non-null    float64\n",
      " 8   data_ultimo_lancamento  999 non-null    object \n",
      "dtypes: float64(2), int64(4), object(3)\n",
      "memory usage: 70.4+ KB\n"
     ]
    }
   ],
   "source": [
    "df_contas.info()"
   ]
  },
  {
   "cell_type": "code",
   "execution_count": 38,
   "metadata": {},
   "outputs": [
    {
     "name": "stdout",
     "output_type": "stream",
     "text": [
      "<class 'pandas.core.frame.DataFrame'>\n",
      "RangeIndex: 2000 entries, 0 to 1999\n",
      "Data columns (total 12 columns):\n",
      " #   Column                 Non-Null Count  Dtype  \n",
      "---  ------                 --------------  -----  \n",
      " 0   cod_proposta           2000 non-null   int64  \n",
      " 1   cod_cliente            2000 non-null   int64  \n",
      " 2   cod_colaborador        2000 non-null   int64  \n",
      " 3   data_entrada_proposta  2000 non-null   object \n",
      " 4   taxa_juros_mensal      2000 non-null   float64\n",
      " 5   valor_proposta         2000 non-null   float64\n",
      " 6   valor_financiamento    2000 non-null   float64\n",
      " 7   valor_entrada          2000 non-null   float64\n",
      " 8   valor_prestacao        2000 non-null   float64\n",
      " 9   quantidade_parcelas    2000 non-null   int64  \n",
      " 10  carencia               2000 non-null   int64  \n",
      " 11  status_proposta        2000 non-null   object \n",
      "dtypes: float64(5), int64(5), object(2)\n",
      "memory usage: 187.6+ KB\n"
     ]
    }
   ],
   "source": [
    "df_propostas.info()"
   ]
  },
  {
   "cell_type": "code",
   "execution_count": 39,
   "metadata": {},
   "outputs": [
    {
     "name": "stdout",
     "output_type": "stream",
     "text": [
      "<class 'pandas.core.frame.DataFrame'>\n",
      "RangeIndex: 71999 entries, 0 to 71998\n",
      "Data columns (total 5 columns):\n",
      " #   Column           Non-Null Count  Dtype  \n",
      "---  ------           --------------  -----  \n",
      " 0   cod_transacao    71999 non-null  int64  \n",
      " 1   num_conta        71999 non-null  int64  \n",
      " 2   data_transacao   71999 non-null  object \n",
      " 3   nome_transacao   71999 non-null  object \n",
      " 4   valor_transacao  71999 non-null  float64\n",
      "dtypes: float64(1), int64(2), object(2)\n",
      "memory usage: 2.7+ MB\n"
     ]
    }
   ],
   "source": [
    "df_transacoes.info()"
   ]
  }
 ],
 "metadata": {
  "kernelspec": {
   "display_name": "Python 3",
   "language": "python",
   "name": "python3"
  },
  "language_info": {
   "codemirror_mode": {
    "name": "ipython",
    "version": 3
   },
   "file_extension": ".py",
   "mimetype": "text/x-python",
   "name": "python",
   "nbconvert_exporter": "python",
   "pygments_lexer": "ipython3",
   "version": "3.13.1"
  }
 },
 "nbformat": 4,
 "nbformat_minor": 2
}
