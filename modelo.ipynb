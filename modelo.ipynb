{
 "cells": [
  {
   "cell_type": "code",
   "execution_count": 1,
   "metadata": {},
   "outputs": [],
   "source": [
    "import pandas as pd\n",
    "import numpy as np\n",
    "from sklearn.linear_model import LinearRegression\n",
    "from sklearn.preprocessing import StandardScaler, PolynomialFeatures\n",
    "from sklearn.model_selection import train_test_split\n",
    "from sklearn.metrics import mean_squared_error\n",
    "import warnings\n",
    "warnings.filterwarnings('ignore')"
   ]
  },
  {
   "cell_type": "code",
   "execution_count": 2,
   "metadata": {},
   "outputs": [],
   "source": [
    "df = pd.read_csv(\"desafio_indicium_imdb.csv\")\n",
    "\n",
    "features=['Runtime','Meta_score','No_of_Votes','Gross']\n",
    "target=['IMDB_Rating']\n",
    "\n",
    "X = df[features]\n",
    "y = df[target]\n",
    "\n",
    "data=df.loc[:,features+target]\n",
    "\n",
    "\n",
    "if data['Gross'].dtype != 'object':\n",
    "    data['Gross'] = data['Gross'].astype(str)\n",
    "\n",
    "\n",
    "data['Gross']=data['Gross'].str.replace(',','')\n",
    "data['Runtime']=data['Runtime'].str.replace(' min','')\n",
    "data['Gross']=data['Gross'].astype('float')\n",
    "data['Runtime']=data['Runtime'].astype('float64')\n",
    "\n",
    "data['Gross']=data['Gross'].replace(np.nan,0)\n",
    "data['Runtime']=data['Runtime'].replace(np.nan,0)\n",
    "data['Meta_score']=data['Meta_score'].replace(np.nan,0)\n",
    "\n",
    "data['Gross']=data['Gross'].astype(int)\n",
    "data['Runtime']=data['Runtime'].astype(int)\n",
    "data['Meta_score']=data['Meta_score'].astype(int)\n",
    "\n"
   ]
  },
  {
   "cell_type": "code",
   "execution_count": 3,
   "metadata": {},
   "outputs": [],
   "source": [
    "train, tests = train_test_split(data.loc[:,:].to_numpy(),test_size=0.40)\n",
    "x_train=train[:,:4]\n",
    "y_train=train[:,4]\n",
    "cv, test=train_test_split(tests,test_size=0.5)\n",
    "x_cv=cv[:,:4]\n",
    "y_cv=cv[:,4]\n",
    "x_test=test[:,:4]\n",
    "y_test=test[:,4]\n"
   ]
  },
  {
   "cell_type": "code",
   "execution_count": 4,
   "metadata": {},
   "outputs": [],
   "source": [
    "# Criar o modelo de regressão linear\n",
    "model = LinearRegression()\n",
    "\n",
    "# Treinar o modelo nos dados de treino\n",
    "model.fit(x_train, y_train)\n",
    "\n",
    "# Fazer previsões usando o conjunto de validação cruzada (CV)\n",
    "y_pred_cv = model.predict(x_cv)\n",
    "\n",
    "# Fazer previsões usando o conjunto de teste\n",
    "y_pred_test = model.predict(x_test)\n"
   ]
  },
  {
   "cell_type": "code",
   "execution_count": 5,
   "metadata": {},
   "outputs": [
    {
     "name": "stdout",
     "output_type": "stream",
     "text": [
      "A nota prevista no IMDB para o filme 'The Shawshank Redemption' é: 9.18\n"
     ]
    }
   ],
   "source": [
    "movie_data = {\n",
    "    'Series_Title': 'The Shawshank Redemption',\n",
    "    'Released_Year': '1994',\n",
    "    'Certificate': 'A',\n",
    "    'Runtime': '142 min',\n",
    "    'Genre': 'Drama',\n",
    "    'Overview': 'Two imprisoned men bond over a number of years, finding solace and eventual redemption through acts of common decency.',\n",
    "    'Meta_score': 80.0,\n",
    "    'Director': 'Frank Darabont',\n",
    "    'Star1': 'Tim Robbins',\n",
    "    'Star2': 'Morgan Freeman',\n",
    "    'Star3': 'Bob Gunton',\n",
    "    'Star4': 'William Sadler',\n",
    "    'No_of_Votes': 2343110,\n",
    "    'Gross': '28,341,469'\n",
    "}\n",
    "\n",
    "# Converter o dicionário em DataFrame\n",
    "movie_df = pd.DataFrame([movie_data])\n",
    "\n",
    "# Pré-processamento dos dados\n",
    "movie_df['Runtime'] = movie_df['Runtime'].str.replace(' min', '').astype(float)  # Remover ' min' e converter para float\n",
    "movie_df['Gross'] = movie_df['Gross'].str.replace(',', '').astype(float)  # Remover vírgulas e converter para float\n",
    "\n",
    "# Selecionar apenas as features necessárias\n",
    "features = ['Runtime', 'Meta_score', 'No_of_Votes', 'Gross']\n",
    "X_new = movie_df[features]\n",
    "\n",
    "# Usar o modelo treinado para fazer a previsão\n",
    "predicted_rating = model.predict(X_new)\n",
    "predicted_rating = predicted_rating.round(2)\n",
    "\n",
    "print(f\"A nota prevista no IMDB para o filme 'The Shawshank Redemption' é: {predicted_rating[0]}\")\n"
   ]
  },
  {
   "cell_type": "code",
   "execution_count": 6,
   "metadata": {},
   "outputs": [
    {
     "name": "stdout",
     "output_type": "stream",
     "text": [
      "Modelo salvo com sucesso no arquivo 'modelo_imdb.pkl'.\n"
     ]
    }
   ],
   "source": [
    "import joblib\n",
    "\n",
    "# Supondo que o modelo foi treinado e está na variável `model`\n",
    "# Salvar o modelo no formato .pkl\n",
    "joblib.dump(model, 'modelo.pkl')\n",
    "\n",
    "print(\"Modelo salvo com sucesso no arquivo 'modelo_imdb.pkl'.\")\n"
   ]
  }
 ],
 "metadata": {
  "kernelspec": {
   "display_name": "data_science_env",
   "language": "python",
   "name": "python3"
  },
  "language_info": {
   "codemirror_mode": {
    "name": "ipython",
    "version": 3
   },
   "file_extension": ".py",
   "mimetype": "text/x-python",
   "name": "python",
   "nbconvert_exporter": "python",
   "pygments_lexer": "ipython3",
   "version": "3.12.4"
  }
 },
 "nbformat": 4,
 "nbformat_minor": 2
}
